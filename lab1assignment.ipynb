{
 "cells": [
  {
   "cell_type": "code",
   "execution_count": 1,
   "metadata": {},
   "outputs": [
    {
     "name": "stdout",
     "output_type": "stream",
     "text": [
      "1\n"
     ]
    }
   ],
   "source": [
    "import tensorflow as tf\n",
    "\n",
    "a=tf.constant(2)\n",
    "b=tf.constant(3)\n",
    "\n",
    "\n",
    "c=tf.square(a)\n",
    "d=tf.square(b)\n",
    "e=tf.add(c,d)\n",
    "f=tf.multiply(a,b)\n",
    "g=tf.multiply(f,2)\n",
    "h=tf.subtract(e,g)\n",
    "\n",
    "sess=tf.Session()\n",
    "print(sess.run(h))\n",
    "writer = tf.summary.FileWriter(\"/tmp/tboard/output2\", sess.graph)\n"
   ]
  },
  {
   "cell_type": "code",
   "execution_count": 2,
   "metadata": {},
   "outputs": [
    {
     "name": "stdout",
     "output_type": "stream",
     "text": [
      "35\n"
     ]
    }
   ],
   "source": [
    "import tensorflow as tf\n",
    "\n",
    "a=tf.constant(2)\n",
    "b=tf.constant(3)\n",
    "\n",
    "y=tf.add(a,b)\n",
    "\n",
    "\n",
    "c=tf.square(a)\n",
    "d=tf.square(b)\n",
    "e=tf.add(c,d)\n",
    "f=tf.multiply(a,b)\n",
    "g=tf.subtract(e,f)\n",
    "\n",
    "res=tf.multiply(y,g)\n",
    "\n",
    "sess=tf.Session()\n",
    "print(sess.run(res))\n",
    "writer = tf.summary.FileWriter(\"/tmp/tboard/output3\", sess.graph)"
   ]
  },
  {
   "cell_type": "code",
   "execution_count": null,
   "metadata": {
    "collapsed": true
   },
   "outputs": [],
   "source": []
  },
  {
   "cell_type": "code",
   "execution_count": null,
   "metadata": {
    "collapsed": true
   },
   "outputs": [],
   "source": []
  }
 ],
 "metadata": {
  "kernelspec": {
   "display_name": "Python 3",
   "language": "python",
   "name": "python3"
  },
  "language_info": {
   "codemirror_mode": {
    "name": "ipython",
    "version": 3
   },
   "file_extension": ".py",
   "mimetype": "text/x-python",
   "name": "python",
   "nbconvert_exporter": "python",
   "pygments_lexer": "ipython3",
   "version": "3.6.2"
  }
 },
 "nbformat": 4,
 "nbformat_minor": 2
}
