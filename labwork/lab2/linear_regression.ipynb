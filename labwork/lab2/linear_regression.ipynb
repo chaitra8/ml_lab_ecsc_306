{
 "cells": [
  {
   "cell_type": "code",
   "execution_count": 2,
   "metadata": {
    "collapsed": true
   },
   "outputs": [],
   "source": [
    "import tensorflow as tf\n",
    "import matplotlib.pyplot as plt\n",
    "\n",
    "c = tf.constant([1.0,2.0,4,3,5],name ='c')\n",
    "p = tf.constant([1.0,3.0,3.0,2.0,5.0],name='p')\n",
    "\n",
    "training_epoch = 100\n",
    "learning_rate = 0.005"
   ]
  },
  {
   "cell_type": "code",
   "execution_count": 3,
   "metadata": {},
   "outputs": [
    {
     "name": "stdout",
     "output_type": "stream",
     "text": [
      "theta_0= 0.234245  theta_1= 0.809059  error= -0.828116\n",
      "theta_0= 0.249934  theta_1= 0.843952  error= -0.609545\n",
      "theta_0= 0.255603  theta_1= 0.844187  error= -0.601682\n",
      "theta_0= 0.260614  theta_1= 0.842923  error= -0.603187\n",
      "theta_0= 0.265394  theta_1= 0.841645  error= -0.605035\n",
      "theta_0= 0.269973  theta_1= 0.840418  error= -0.606822\n",
      "theta_0= 0.274359  theta_1= 0.839243  error= -0.608534\n",
      "theta_0= 0.278561  theta_1= 0.838117  error= -0.610176\n",
      "theta_0= 0.282585  theta_1= 0.837039  error= -0.611748\n",
      "theta_0= 0.28644  theta_1= 0.836006  error= -0.613253\n",
      "Optimized\n"
     ]
    }
   ],
   "source": [
    "t1=0.0\n",
    "t0=0.0\n",
    "with tf.Session() as sess:\n",
    "    for epoch in range (training_epoch):\n",
    "        for i in range (0,5):\n",
    "            c1=tf.multiply(t1,c[i])\n",
    "            pred=tf.add(t0,c1)\n",
    "            error=tf.subtract(pred,p[i])\n",
    "            t0=tf.subtract(t0,tf.multiply(learning_rate,error))\n",
    "            t1=tf.subtract(t1,tf.multiply(learning_rate,tf.multiply(error,c[i])))\n",
    "        if (epoch+1) % 10 == 0:\n",
    "            print(\"theta_0=\",sess.run(t0),\" theta_1=\",sess.run(t1),\" error=\",sess.run(error))\n",
    "    print(\"Optimized\")"
   ]
  },
  {
   "cell_type": "code",
   "execution_count": 4,
   "metadata": {},
   "outputs": [
    {
     "data": {
      "image/png": "[encoded data removed]",
      "text/plain": [
       "<matplotlib.figure.Figure at 0x7f27fbd0a128>"
      ]
     },
     "metadata": {},
     "output_type": "display_data"
    }
   ],
   "source": [
    "sess=tf.Session()\n",
    "c1=sess.run(c)\n",
    "p1=sess.run(p)\n",
    "plt.plot(c1, p1, 'ro', label='Original data')\n",
    "plt.plot(c1, sess.run(t1) * c1 + sess.run(t0), label='Fitted line')\n",
    "plt.legend()\n",
    "plt.show()"
   ]
  },
  {
   "cell_type": "code",
   "execution_count": null,
   "metadata": {
    "collapsed": true
   },
   "outputs": [],
   "source": []
  }
 ],
 "metadata": {
  "kernelspec": {
   "display_name": "Python 3",
   "language": "python",
   "name": "python3"
  },
  "language_info": {
   "codemirror_mode": {
    "name": "ipython",
    "version": 3
   },
   "file_extension": ".py",
   "mimetype": "text/x-python",
   "name": "python",
   "nbconvert_exporter": "python",
   "pygments_lexer": "ipython3",
   "version": "3.6.1"
  }
 },
 "nbformat": 4,
 "nbformat_minor": 2
}
