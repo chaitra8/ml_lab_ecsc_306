{
 "cells": [
  {
   "cell_type": "code",
   "execution_count": 74,
   "metadata": {},
   "outputs": [
    {
     "name": "stdout",
     "output_type": "stream",
     "text": [
      "Elements in array x\n",
      "1.2\n",
      "2.1\n",
      "2.3\n",
      "4.1\n",
      "5.3\n",
      "6.1\n",
      "Elements in array y\n",
      "1.3\n",
      "2.1\n",
      "3.2\n",
      "3.3\n",
      "5.4\n",
      "6.3\n"
     ]
    }
   ],
   "source": [
    "import tensorflow as tf\n",
    "\n",
    "x=tf.constant([1.2, 2.1, 2.3, 4.1,5.3, 6.1])\n",
    "y=tf.constant([1.3, 2.1, 3.2,3.3, 5.4,6.3])\n",
    "\n",
    "print('Elements in array x')\n",
    "with tf.name_scope (\"ElementsofArray_X\"):\n",
    "    with tf.Session() as sess:\n",
    "        for i in range(len(sess.run(x))):\n",
    "            op1 = sess.run(x[i])\n",
    "            print(op1)\n",
    "    \n",
    "print('Elements in array y')\n",
    "with tf.name_scope (\"ElementsofArray_Y\"):\n",
    "    with tf.Session() as sess:\n",
    "        for i in range(len(sess.run(y))):\n",
    "            op2 = sess.run(y[i])\n",
    "            print(op2)"
   ]
  },
  {
   "cell_type": "code",
   "execution_count": 75,
   "metadata": {},
   "outputs": [
    {
     "name": "stdout",
     "output_type": "stream",
     "text": [
      "Mean of x\n",
      "3.33333333333\n",
      "Mean of y\n",
      "3.33333333333\n"
     ]
    }
   ],
   "source": [
    "#calculate mean of x and y\n",
    "sum1=tf.constant(0)\n",
    "\n",
    "with tf.name_scope(\"Mean_X\"):\n",
    "    with tf.Session() as sess:\n",
    "        for i in range(len(sess.run(x))):\n",
    "            op3 =sess.run(x[i])\n",
    "            sum1=tf.add(sum1,op3, name=\"AddX\")\n",
    "        a=tf.divide(sum1,len(sess.run(x)), name=\"DivideByN\")\n",
    "        avgx=sess.run(a)\n",
    "    print('Mean of x')\n",
    "    print(avgx)\n",
    "\n",
    "sum1=tf.constant(0)\n",
    "with tf.name_scope(\"Mean_Y\"):\n",
    "    with tf.Session() as sess:\n",
    "        for i in range(len(sess.run(y))):\n",
    "            op4 =sess.run(y[i])\n",
    "            sum1=tf.add(sum1,op4, name=\"AddY\")\n",
    "        a=tf.divide(sum1,len(sess.run(y)), name=\"DivideByN\")\n",
    "        avgy=sess.run(a)\n",
    "    print('Mean of y')\n",
    "    print(avgy)\n"
   ]
  },
  {
   "cell_type": "code",
   "execution_count": 76,
   "metadata": {},
   "outputs": [
    {
     "name": "stdout",
     "output_type": "stream",
     "text": [
      "Variance of x\n",
      "19.25\n"
     ]
    }
   ],
   "source": [
    "#Calculate variance for x\n",
    "var=tf.constant(0.0)\n",
    "with tf.name_scope(\"Calculate_Variance\"):\n",
    "    with tf.Session() as sess:\n",
    "        for i in range(len(sess.run(x))):\n",
    "            a=tf.subtract(sess.run(x[i]), avgx, name=\"Sub\")\n",
    "            b=tf.square(a, name=\"Squaring\")\n",
    "            var=tf.add(var,b, name=\"Add\")\n",
    "        vari=sess.run(var)\n",
    "print('Variance of x')\n",
    "print(vari)\n"
   ]
  },
  {
   "cell_type": "code",
   "execution_count": 77,
   "metadata": {},
   "outputs": [
    {
     "name": "stdout",
     "output_type": "stream",
     "text": [
      "Covariance of x,y\n",
      "18.2433\n"
     ]
    }
   ],
   "source": [
    "#Calculate covariance of x & y\n",
    "cov=tf.constant(0.0)\n",
    "with tf.name_scope(\"Calculate_Covariance\"):\n",
    "    with tf.Session() as sess:\n",
    "        for i in range(len(sess.run(x))):\n",
    "            a=tf.subtract(sess.run(x[i]),avgx, name=\"Subtract1\")\n",
    "            b=tf.subtract(sess.run(y[i]),avgy, name=\"Subtract2\")\n",
    "            c=tf.multiply(a,b,name=\"Multiply\")\n",
    "            cov=tf.add(cov,c, name=\"AddThem\")\n",
    "        covar=sess.run(cov)\n",
    "print('Covariance of x,y')\n",
    "print(covar)\n",
    "        "
   ]
  },
  {
   "cell_type": "code",
   "execution_count": 78,
   "metadata": {},
   "outputs": [
    {
     "name": "stdout",
     "output_type": "stream",
     "text": [
      "Value of slope\n",
      "0.947706\n"
     ]
    }
   ],
   "source": [
    "#Calculate value of m\n",
    "with tf.name_scope(\"Calculate_slope\"):\n",
    "    with tf.Session() as sess:\n",
    "        m=tf.divide(cov,var)\n",
    "        slope=sess.run(m)\n",
    "print('Value of slope')\n",
    "print(slope)\n"
   ]
  },
  {
   "cell_type": "code",
   "execution_count": 79,
   "metadata": {},
   "outputs": [
    {
     "name": "stdout",
     "output_type": "stream",
     "text": [
      "The value of c\n",
      "0.174314\n"
     ]
    }
   ],
   "source": [
    "#Calculate value of c \n",
    "with tf.name_scope(\"Calculate_c\"):\n",
    "    c=tf.to_float(slope)\n",
    "    d=tf.to_float(avgx)\n",
    "    e=tf.multiply(c,d)\n",
    "    f=tf.to_float(avgy)\n",
    "    s=tf.subtract(f,e)\n",
    "    with tf.Session() as sess:\n",
    "        const_c=sess.run(s)\n",
    "print('The value of c')\n",
    "print(const_c)"
   ]
  },
  {
   "cell_type": "code",
   "execution_count": 80,
   "metadata": {
    "collapsed": true
   },
   "outputs": [],
   "source": [
    "import tensorflow as tf\n",
    "import numpy as np\n",
    "import matplotlib.pyplot as plt"
   ]
  },
  {
   "cell_type": "code",
   "execution_count": 81,
   "metadata": {},
   "outputs": [
    {
     "name": "stdout",
     "output_type": "stream",
     "text": [
      "[1.12202, 2.0697258, 3.0174315, 3.9651372, 4.9128428, 5.860549]\n"
     ]
    }
   ],
   "source": [
    "with tf.Session() as sess:\n",
    "    x1=sess.run(x)\n",
    "    y1=sess.run(y)\n",
    "tr_X = numpy.asarray(x1)\n",
    "tr_Y = numpy.asarray(y1)\n",
    "\n",
    "\n",
    "randomX=tf.constant([1.0, 2.0, 3.0, 4.0, 5.0, 6.0])\n",
    "with tf.Session() as sess:\n",
    "    randomX1=sess.run(randomX)\n",
    "randomX2=numpy.asarray(randomX1)\n",
    "\n",
    "randomY=[0]*6\n",
    "    \n",
    "with tf.Session() as sess:\n",
    "        for i in range(len(sess.run(randomX))):\n",
    "            output = sess.run(randomX[i])\n",
    "            a=tf.multiply(output,slope)\n",
    "            b=tf.add(a,const_c)\n",
    "            randomY[i]=sess.run(b)\n",
    "print(randomY)"
   ]
  },
  {
   "cell_type": "code",
   "execution_count": 82,
   "metadata": {},
   "outputs": [
    {
     "data": {
      "image/png": "[encoded data removed]",
      "text/plain": [
       "<matplotlib.figure.Figure at 0x7fad2469be48>"
      ]
     },
     "metadata": {},
     "output_type": "display_data"
    }
   ],
   "source": [
    "plt.plot(tr_X, tr_Y, 'ro', label='Original data')\n",
    "plt.plot(randomX2, randomY, label='fitted line')\n",
    "plt.legend()\n",
    "plt.show()"
   ]
  },
  {
   "cell_type": "code",
   "execution_count": 83,
   "metadata": {},
   "outputs": [
    {
     "data": {
      "image/png": "[encoded data removed]",
      "text/plain": [
       "<matplotlib.figure.Figure at 0x7fad24aeefd0>"
      ]
     },
     "metadata": {},
     "output_type": "display_data"
    },
    {
     "name": "stdout",
     "output_type": "stream",
     "text": [
      "0.0897337\n"
     ]
    }
   ],
   "source": [
    "#part2(b)\n",
    "import numpy as np\n",
    "xnp=np.asarray(randomX2)\n",
    "ynp=np.asarray(randomY)\n",
    "\n",
    "graph=np.polyfit(xnp,ynp,1)\n",
    "fitfunc=np.poly1d(graph)\n",
    "\n",
    "plt.plot(xnp,ynp, 'yo',xnp, fitfunc(xnp), '--k')\n",
    "plt.show()\n",
    "with tf.name_scope(\"Root_mean_square_error\"):\n",
    "    rmse=tf.sqrt(tf.reduce_mean(tf.squared_difference(randomX2,randomY)))\n",
    "    \n",
    "    with tf.Session() as sess:\n",
    "        print(sess.run(rmse))"
   ]
  },
  {
   "cell_type": "code",
   "execution_count": null,
   "metadata": {
    "collapsed": true
   },
   "outputs": [],
   "source": []
  }
 ],
 "metadata": {
  "kernelspec": {
   "display_name": "Python 3",
   "language": "python",
   "name": "python3"
  },
  "language_info": {
   "codemirror_mode": {
    "name": "ipython",
    "version": 3
   },
   "file_extension": ".py",
   "mimetype": "text/x-python",
   "name": "python",
   "nbconvert_exporter": "python",
   "pygments_lexer": "ipython3",
   "version": "3.6.1"
  }
 },
 "nbformat": 4,
 "nbformat_minor": 2
}
