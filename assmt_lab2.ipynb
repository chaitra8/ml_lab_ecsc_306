{
 "cells": [
  {
   "cell_type": "code",
   "execution_count": 1,
   "metadata": {
    "collapsed": true
   },
   "outputs": [],
   "source": [
    "import tensorflow as tf\n",
    "import matplotlib.pyplot as plt\n",
    "\n",
    "c = tf.constant([1.0,2.0,3,4,8],name ='c')\n",
    "p = tf.constant([1.0,2.0,2.0,3.0,5.0],name='p')\n",
    "\n",
    "training_epoch = 100\n",
    "learning_rate = 0.005"
   ]
  },
  {
   "cell_type": "code",
   "execution_count": 2,
   "metadata": {},
   "outputs": [
    {
     "name": "stdout",
     "output_type": "stream",
     "text": [
      "theta_0= 0.163767  theta_1= 0.627594  error= 0.273356\n",
      "theta_0= 0.197597  theta_1= 0.624119  error= 0.282297\n",
      "theta_0= 0.228453  theta_1= 0.618762  error= 0.26452\n",
      "theta_0= 0.256987  theta_1= 0.6138  error= 0.247983\n",
      "theta_0= 0.283377  theta_1= 0.609211  error= 0.232689\n",
      "theta_0= 0.307784  theta_1= 0.604967  error= 0.218545\n",
      "theta_0= 0.330356  theta_1= 0.601042  error= 0.205464\n",
      "theta_0= 0.351231  theta_1= 0.597411  error= 0.193367\n",
      "theta_0= 0.370537  theta_1= 0.594054  error= 0.182178\n",
      "theta_0= 0.388392  theta_1= 0.590949  error= 0.171829\n",
      "Optimized\n"
     ]
    }
   ],
   "source": [
    "\n",
    "\n",
    "t1=0.0\n",
    "t0=0.0\n",
    "with tf.Session() as sess:\n",
    "    for epoch in range (training_epoch):\n",
    "        for i in range (0,5):\n",
    "            c1=tf.multiply(t1,c[i])\n",
    "            pred=tf.add(t0,c1)\n",
    "            error=tf.subtract(pred,p[i])\n",
    "            t0=tf.subtract(t0,tf.multiply(learning_rate,error))\n",
    "            t1=tf.subtract(t1,tf.multiply(learning_rate,tf.multiply(error,c[i])))\n",
    "        if (epoch+1) % 10 == 0:\n",
    "            print(\"theta_0=\",sess.run(t0),\" theta_1=\",sess.run(t1),\" error=\",sess.run(error))\n",
    "    print(\"Optimized\")\n",
    "\n"
   ]
  },
  {
   "cell_type": "code",
   "execution_count": 3,
   "metadata": {},
   "outputs": [
    {
     "data": {
      "image/png": "[encoded data removed]",
      "text/plain": [
       "<matplotlib.figure.Figure at 0x7f8fe88142e8>"
      ]
     },
     "metadata": {},
     "output_type": "display_data"
    }
   ],
   "source": [
    "sess=tf.Session()\n",
    "c1=sess.run(c)\n",
    "p1=sess.run(p)\n",
    "plt.plot(c1, p1, 'ro', label='Original data')\n",
    "plt.plot(c1, sess.run(t1) * c1 + sess.run(t0), label='Fitted line')\n",
    "plt.legend()\n",
    "plt.show()"
   ]
  },
  {
   "cell_type": "code",
   "execution_count": null,
   "metadata": {
    "collapsed": true
   },
   "outputs": [],
   "source": []
  }
 ],
 "metadata": {
  "kernelspec": {
   "display_name": "Python 3",
   "language": "python",
   "name": "python3"
  },
  "language_info": {
   "codemirror_mode": {
    "name": "ipython",
    "version": 3
   },
   "file_extension": ".py",
   "mimetype": "text/x-python",
   "name": "python",
   "nbconvert_exporter": "python",
   "pygments_lexer": "ipython3",
   "version": "3.6.1"
  }
 },
 "nbformat": 4,
 "nbformat_minor": 2
}
